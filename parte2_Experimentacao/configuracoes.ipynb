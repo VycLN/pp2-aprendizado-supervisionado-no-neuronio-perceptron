{
 "metadata": {
  "language_info": {
   "codemirror_mode": {
    "name": "ipython",
    "version": 3
   },
   "file_extension": ".py",
   "mimetype": "text/x-python",
   "name": "python",
   "nbconvert_exporter": "python",
   "pygments_lexer": "ipython3",
   "version": "3.8.5-final"
  },
  "orig_nbformat": 2,
  "kernelspec": {
   "name": "python38532bitvenvvenvcea946d64c73442fa1f49f2c164e36b5",
   "display_name": "Python 3.8.5 32-bit ('venv': venv)"
  }
 },
 "nbformat": 4,
 "nbformat_minor": 2,
 "cells": [
  {
   "cell_type": "markdown",
   "metadata": {},
   "source": [
    "# Configurações de Experimentação\n",
    "\n",
    "Este arquivo foi criado por Leonardo Monteiro Neres de Lima\n",
    "\n",
    "## Descrição da atividade\n",
    "\n",
    "Executar 100 repetições do algoritmo desenvolvido na Parte 1 para as seguintes configurações η × I = {0,4, 0,1, 0,01} × {(−100, + 100),(−1, + 1),(−0,5, + 0,5)}.\n",
    "\n",
    "\n",
    "## Inportações"
   ]
  },
  {
   "cell_type": "code",
   "execution_count": 1,
   "metadata": {},
   "outputs": [],
   "source": [
    "import pandas as pd"
   ]
  },
  {
   "cell_type": "markdown",
   "metadata": {},
   "source": [
    "### Configurações a serem consideradas"
   ]
  },
  {
   "cell_type": "code",
   "execution_count": 2,
   "metadata": {},
   "outputs": [],
   "source": [
    "# taxa de aprendizado\n",
    "n = [.4, .1, .01]\n",
    "\n",
    "# modulo para gerar o intervalo a ser utilizado para a distribuição uniforme do valor dos pesos\n",
    "intervalo = [100, 1, .5]"
   ]
  },
  {
   "cell_type": "markdown",
   "metadata": {},
   "source": [
    "### Produto cartesiano para gerar uma lista de Configurações"
   ]
  },
  {
   "cell_type": "code",
   "execution_count": 3,
   "metadata": {},
   "outputs": [],
   "source": [
    "index = pd.MultiIndex.from_product([n, intervalo], names = [\"n\", \"intervalo\"])\n",
    "\n",
    "x = pd.DataFrame(index = index).reset_index()"
   ]
  },
  {
   "cell_type": "markdown",
   "metadata": {},
   "source": [
    "### Funções para capturar e imprimir as configurações"
   ]
  },
  {
   "cell_type": "code",
   "execution_count": 4,
   "metadata": {},
   "outputs": [],
   "source": [
    "# retorna uma lista com os parametros da configuração\n",
    "def get_conf(n, i):\n",
    "    return [n, -i, i]\n",
    "    \n",
    "# imprime a configuração\n",
    "def print_conf(n, i_i, i_s):\n",
    "    print('Taxa de aprendizado: '+ str(n)+'\\nIntervalo a ser utilizado para a distribuição uniforme do valor dos pesos: ('+ str(i_i) +', '+ str(i_s) +')')"
   ]
  },
  {
   "cell_type": "markdown",
   "metadata": {},
   "source": [
    "### Função de iteração da lista de configurações "
   ]
  },
  {
   "cell_type": "code",
   "execution_count": 5,
   "metadata": {
    "tags": []
   },
   "outputs": [
    {
     "output_type": "stream",
     "name": "stdout",
     "text": "\nConfiguração 1\nTaxa de aprendizado: 0.4\nIntervalo a ser utilizado para a distribuição uniforme do valor dos pesos: (-0.4, 0.4)\n\nConfiguração 2\nTaxa de aprendizado: 0.4\nIntervalo a ser utilizado para a distribuição uniforme do valor dos pesos: (-0.4, 0.4)\n\nConfiguração 3\nTaxa de aprendizado: 0.4\nIntervalo a ser utilizado para a distribuição uniforme do valor dos pesos: (-0.4, 0.4)\n\nConfiguração 4\nTaxa de aprendizado: 0.1\nIntervalo a ser utilizado para a distribuição uniforme do valor dos pesos: (-0.1, 0.1)\n\nConfiguração 5\nTaxa de aprendizado: 0.1\nIntervalo a ser utilizado para a distribuição uniforme do valor dos pesos: (-0.1, 0.1)\n\nConfiguração 6\nTaxa de aprendizado: 0.1\nIntervalo a ser utilizado para a distribuição uniforme do valor dos pesos: (-0.1, 0.1)\n\nConfiguração 7\nTaxa de aprendizado: 0.01\nIntervalo a ser utilizado para a distribuição uniforme do valor dos pesos: (-0.01, 0.01)\n\nConfiguração 8\nTaxa de aprendizado: 0.01\nIntervalo a ser utilizado para a distribuição uniforme do valor dos pesos: (-0.01, 0.01)\n\nConfiguração 9\nTaxa de aprendizado: 0.01\nIntervalo a ser utilizado para a distribuição uniforme do valor dos pesos: (-0.01, 0.01)\n"
    }
   ],
   "source": [
    "# itera pela lista capturando e imprimindo o produto cartesiano de configuracoes\n",
    "for i in range(len(x['n'])):\n",
    "    print('\\nConfiguração ' + str(i+1))\n",
    "    y = get_conf(x['n'][i], x['n'][i])\n",
    "    print_conf(y[0],y[1],y[2])"
   ]
  }
 ]
}